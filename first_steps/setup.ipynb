{
 "cells": [
  {
   "cell_type": "markdown",
   "metadata": {},
   "source": [
    "### workshop setup\n",
    "\n",
    "First select the notebook Kernel to be the same of the conda environment you created in the README.md first steps.\n",
    "\n",
    "![Select Kernel 01](.../blob/main/first_steps/images/select_kernel01.png)\n",
    "\n",
    "<!-- ![Select Kernel 01](images/select_kernel01.png) -->\n",
    "\n",
    "<!-- ![Select Kernel 02](images/select_kernel02.png) -->\n",
    "\n",
    "<!-- ![Select Kernel 01](https://github.com/placerda/llmops-workshop/blob/main/first_steps/images/select_kernel01.png?raw=true) -->"
   ]
  },
  {
   "cell_type": "code",
   "execution_count": null,
   "metadata": {},
   "outputs": [],
   "source": [
    "!ls"
   ]
  },
  {
   "cell_type": "code",
   "execution_count": null,
   "metadata": {},
   "outputs": [],
   "source": []
  }
 ],
 "metadata": {
  "kernelspec": {
   "display_name": "workshop",
   "language": "python",
   "name": "python3"
  },
  "language_info": {
   "name": "python",
   "version": "3.10.13"
  }
 },
 "nbformat": 4,
 "nbformat_minor": 2
}
