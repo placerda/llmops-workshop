{
 "cells": [
  {
   "cell_type": "markdown",
   "metadata": {},
   "source": [
    "#### Introduction to LLMs and Azure AI Services\n",
    "\n",
    "In this lab, we will learn how to use Azure AI do deploy large language models.\n",
    "\n",
    "1) Deploy an OpenAI model.\n",
    "2) Experiment with the playground.\n",
    "3) Deploy a LLama model.\n",
    "4) Test your LLama deployment.\n",
    "\n"
   ]
  }
 ],
 "metadata": {
  "kernelspec": {
   "display_name": "workshop",
   "language": "python",
   "name": "python3"
  },
  "language_info": {
   "codemirror_mode": {
    "name": "ipython",
    "version": 3
   },
   "file_extension": ".py",
   "mimetype": "text/x-python",
   "name": "python",
   "nbconvert_exporter": "python",
   "pygments_lexer": "ipython3",
   "version": "3.10.13"
  }
 },
 "nbformat": 4,
 "nbformat_minor": 2
}
