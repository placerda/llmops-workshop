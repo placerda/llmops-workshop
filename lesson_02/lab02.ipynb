{
 "cells": [
  {
   "cell_type": "markdown",
   "metadata": {},
   "source": [
    "#### Building LLMs Orchestration Flows\n",
    "\n",
    "In this lab, we will learn how to use Prompt Flow to build LLMs Orchestration Flows.\n",
    "\n",
    "1) Create a Standard Flow with Prompt flow.\n",
    "2) Create a Chat Orchestration flow.\n"
   ]
  }
 ],
 "metadata": {
  "kernelspec": {
   "display_name": "workshop",
   "language": "python",
   "name": "python3"
  },
  "language_info": {
   "codemirror_mode": {
    "name": "ipython",
    "version": 3
   },
   "file_extension": ".py",
   "mimetype": "text/x-python",
   "name": "python",
   "nbconvert_exporter": "python",
   "pygments_lexer": "ipython3",
   "version": "3.10.13"
  }
 },
 "nbformat": 4,
 "nbformat_minor": 2
}
