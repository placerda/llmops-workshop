{
 "cells": [
  {
   "cell_type": "markdown",
   "metadata": {},
   "source": [
    "##  Automating Everything\n",
    "\n",
    "In this lab, we will learn how to use **LLMOps with Prompt Flow** Solution Accelerator to deploy an end-to-end LLMOps solution using **Prompt Flow** and **Github Actions**.\n",
    "\n",
    "### Prerequisites\n",
    "\n",
    "- Azure OpenAI with Model deployed with name `gpt-35-turbo`."
   ]
  },
  {
   "cell_type": "markdown",
   "metadata": {},
   "source": [
    "### 1. Create Azure service principal\n",
    "\n",
    "An Azure service principal (SP) is .. [TBD]. You will need a service principal to [TBD]. You tipically create one SP per environment (DEV, PROD), in this lab you will [TBD].\n",
    "\n",
    "1.1. Run the following bash commands, updating the spname and subscriptionId variables with the values for your project. This command will also grant the Contributor role to the service principal in the subscription provided. This is required for GitHub Actions to properly use resources in that subscription.Copy the following bash commands to your computer and update the spname and subscriptionId variables with the values for your project. This command will also grant the Contributor role to the service principal in the subscription provided. This is required for GitHub Actions to properly use resources in that subscription."
   ]
  },
  {
   "cell_type": "code",
   "execution_count": null,
   "metadata": {},
   "outputs": [],
   "source": [
    "%%bash\n",
    "spname=\"<your sp name>\"\n",
    "roleName=\"Owner\"\n",
    "subscriptionId=\"<subscription Id>\"\n",
    "servicePrincipalName=\"Azure-ARM-${spname}\"\n",
    "\n",
    "echo \"Using subscription ID $subscriptionID\"\n",
    "echo \"Creating SP for RBAC with name $servicePrincipalName, with role $roleName and in scopes /subscriptions/$subscriptionId\"\n",
    "az ad sp create-for-rbac --name $servicePrincipalName --role $roleName --scopes /subscriptions/$subscriptionId --sdk-auth \n",
    "echo \"Please ensure that the information created here is properly save for future use.\""
   ]
  }
 ],
 "metadata": {
  "kernelspec": {
   "display_name": "workshop",
   "language": "python",
   "name": "python3"
  },
  "language_info": {
   "codemirror_mode": {
    "name": "ipython",
    "version": 3
   },
   "file_extension": ".py",
   "mimetype": "text/x-python",
   "name": "python",
   "nbconvert_exporter": "python",
   "pygments_lexer": "ipython3",
   "version": "3.10.13"
  }
 },
 "nbformat": 4,
 "nbformat_minor": 2
}
