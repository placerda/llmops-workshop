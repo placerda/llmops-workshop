{
 "cells": [
  {
   "cell_type": "markdown",
   "metadata": {},
   "source": [
    "####  Monitoring and Responsible AI \n",
    "\n",
    "In this lab, we will learn how to use Prompt Flow to apply Responsible AI principles when developing LLMs Apps and how to monitor them.\n",
    "1) Use Content safety to protect your solution.\n",
    "2) Monitoring LLMs orchestration flows."
   ]
  }
 ],
 "metadata": {
  "kernelspec": {
   "display_name": "workshop",
   "language": "python",
   "name": "python3"
  },
  "language_info": {
   "codemirror_mode": {
    "name": "ipython",
    "version": 3
   },
   "file_extension": ".py",
   "mimetype": "text/x-python",
   "name": "python",
   "nbconvert_exporter": "python",
   "pygments_lexer": "ipython3",
   "version": "3.10.13"
  }
 },
 "nbformat": 4,
 "nbformat_minor": 2
}
