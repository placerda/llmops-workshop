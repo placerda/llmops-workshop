{
 "cells": [
  {
   "cell_type": "markdown",
   "metadata": {},
   "source": [
    "####  Evaluating and Deploying LLMs\n",
    "\n",
    "In this lab, we will learn how to use Prompt Flow to Evaluate and Deploy LLMs.\n",
    "\n",
    "1) Create an Evaluation Flow with Prompt flow.\n",
    "2) Deploy LLM Flows with Prompt Flow."
   ]
  }
 ],
 "metadata": {
  "kernelspec": {
   "display_name": "workshop",
   "language": "python",
   "name": "python3"
  },
  "language_info": {
   "codemirror_mode": {
    "name": "ipython",
    "version": 3
   },
   "file_extension": ".py",
   "mimetype": "text/x-python",
   "name": "python",
   "nbconvert_exporter": "python",
   "pygments_lexer": "ipython3",
   "version": "3.10.13"
  }
 },
 "nbformat": 4,
 "nbformat_minor": 2
}
